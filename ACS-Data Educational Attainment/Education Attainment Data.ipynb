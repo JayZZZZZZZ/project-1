{
 "cells": [
  {
   "cell_type": "code",
   "execution_count": 24,
   "metadata": {},
   "outputs": [],
   "source": [
    "import numpy as np\n",
    "import pandas as pd"
   ]
  },
  {
   "cell_type": "code",
   "execution_count": 25,
   "metadata": {},
   "outputs": [
    {
     "data": {
      "text/html": [
       "<div>\n",
       "<style scoped>\n",
       "    .dataframe tbody tr th:only-of-type {\n",
       "        vertical-align: middle;\n",
       "    }\n",
       "\n",
       "    .dataframe tbody tr th {\n",
       "        vertical-align: top;\n",
       "    }\n",
       "\n",
       "    .dataframe thead th {\n",
       "        text-align: right;\n",
       "    }\n",
       "</style>\n",
       "<table border=\"1\" class=\"dataframe\">\n",
       "  <thead>\n",
       "    <tr style=\"text-align: right;\">\n",
       "      <th></th>\n",
       "      <th>id</th>\n",
       "    </tr>\n",
       "    <tr>\n",
       "      <th>GEO_ID</th>\n",
       "      <th></th>\n",
       "    </tr>\n",
       "  </thead>\n",
       "  <tbody>\n",
       "    <tr>\n",
       "      <th>NAME</th>\n",
       "      <td>Geographic Area Name</td>\n",
       "    </tr>\n",
       "    <tr>\n",
       "      <th>S1501_C01_001E</th>\n",
       "      <td>Estimate!!Total!!AGE BY EDUCATIONAL ATTAINMENT...</td>\n",
       "    </tr>\n",
       "    <tr>\n",
       "      <th>S1501_C01_001M</th>\n",
       "      <td>Margin of Error!!Total!!AGE BY EDUCATIONAL ATT...</td>\n",
       "    </tr>\n",
       "    <tr>\n",
       "      <th>S1501_C01_002E</th>\n",
       "      <td>Estimate!!Total!!AGE BY EDUCATIONAL ATTAINMENT...</td>\n",
       "    </tr>\n",
       "    <tr>\n",
       "      <th>S1501_C01_002M</th>\n",
       "      <td>Margin of Error!!Total!!AGE BY EDUCATIONAL ATT...</td>\n",
       "    </tr>\n",
       "    <tr>\n",
       "      <th>...</th>\n",
       "      <td>...</td>\n",
       "    </tr>\n",
       "    <tr>\n",
       "      <th>S1501_C06_062M</th>\n",
       "      <td>Margin of Error!!Percent Female!!MEDIAN EARNIN...</td>\n",
       "    </tr>\n",
       "    <tr>\n",
       "      <th>S1501_C06_063E</th>\n",
       "      <td>Estimate!!Percent Female!!MEDIAN EARNINGS IN T...</td>\n",
       "    </tr>\n",
       "    <tr>\n",
       "      <th>S1501_C06_063M</th>\n",
       "      <td>Margin of Error!!Percent Female!!MEDIAN EARNIN...</td>\n",
       "    </tr>\n",
       "    <tr>\n",
       "      <th>S1501_C06_064E</th>\n",
       "      <td>Estimate!!Percent Female!!MEDIAN EARNINGS IN T...</td>\n",
       "    </tr>\n",
       "    <tr>\n",
       "      <th>S1501_C06_064M</th>\n",
       "      <td>Margin of Error!!Percent Female!!MEDIAN EARNIN...</td>\n",
       "    </tr>\n",
       "  </tbody>\n",
       "</table>\n",
       "<p>769 rows × 1 columns</p>\n",
       "</div>"
      ],
      "text/plain": [
       "                                                               id\n",
       "GEO_ID                                                           \n",
       "NAME                                         Geographic Area Name\n",
       "S1501_C01_001E  Estimate!!Total!!AGE BY EDUCATIONAL ATTAINMENT...\n",
       "S1501_C01_001M  Margin of Error!!Total!!AGE BY EDUCATIONAL ATT...\n",
       "S1501_C01_002E  Estimate!!Total!!AGE BY EDUCATIONAL ATTAINMENT...\n",
       "S1501_C01_002M  Margin of Error!!Total!!AGE BY EDUCATIONAL ATT...\n",
       "...                                                           ...\n",
       "S1501_C06_062M  Margin of Error!!Percent Female!!MEDIAN EARNIN...\n",
       "S1501_C06_063E  Estimate!!Percent Female!!MEDIAN EARNINGS IN T...\n",
       "S1501_C06_063M  Margin of Error!!Percent Female!!MEDIAN EARNIN...\n",
       "S1501_C06_064E  Estimate!!Percent Female!!MEDIAN EARNINGS IN T...\n",
       "S1501_C06_064M  Margin of Error!!Percent Female!!MEDIAN EARNIN...\n",
       "\n",
       "[769 rows x 1 columns]"
      ]
     },
     "execution_count": 25,
     "metadata": {},
     "output_type": "execute_result"
    }
   ],
   "source": [
    "df_edulvl_data = pd.read_csv(\"ACSST5Y2019.S1501_metadata_2021-01-04T171916.csv\", index_col=0)\n",
    "df_edulvl_data"
   ]
  },
  {
   "cell_type": "code",
   "execution_count": 26,
   "metadata": {},
   "outputs": [],
   "source": [
    "#create a filter for relevant columns\n",
    "edulvl_rows = [\"S1501_C01_006E\", \"S1501_C01_015E\",\"S1501_C05_012E\",\"S1501_C01_059E\",\"S1501_C05_063E\",\"S1501_C05_013E\",'S1501_C05_064E']"
   ]
  },
  {
   "cell_type": "code",
   "execution_count": 27,
   "metadata": {},
   "outputs": [
    {
     "data": {
      "text/html": [
       "<div>\n",
       "<style scoped>\n",
       "    .dataframe tbody tr th:only-of-type {\n",
       "        vertical-align: middle;\n",
       "    }\n",
       "\n",
       "    .dataframe tbody tr th {\n",
       "        vertical-align: top;\n",
       "    }\n",
       "\n",
       "    .dataframe thead th {\n",
       "        text-align: right;\n",
       "    }\n",
       "</style>\n",
       "<table border=\"1\" class=\"dataframe\">\n",
       "  <thead>\n",
       "    <tr style=\"text-align: right;\">\n",
       "      <th></th>\n",
       "      <th>id</th>\n",
       "    </tr>\n",
       "    <tr>\n",
       "      <th>GEO_ID</th>\n",
       "      <th></th>\n",
       "    </tr>\n",
       "  </thead>\n",
       "  <tbody>\n",
       "    <tr>\n",
       "      <th>S1501_C01_006E</th>\n",
       "      <td>Estimate!!Total!!AGE BY EDUCATIONAL ATTAINMENT...</td>\n",
       "    </tr>\n",
       "    <tr>\n",
       "      <th>S1501_C01_015E</th>\n",
       "      <td>Estimate!!Total!!AGE BY EDUCATIONAL ATTAINMENT...</td>\n",
       "    </tr>\n",
       "    <tr>\n",
       "      <th>S1501_C05_012E</th>\n",
       "      <td>Estimate!!Female!!AGE BY EDUCATIONAL ATTAINMEN...</td>\n",
       "    </tr>\n",
       "    <tr>\n",
       "      <th>S1501_C01_059E</th>\n",
       "      <td>Estimate!!Total!!MEDIAN EARNINGS IN THE PAST 1...</td>\n",
       "    </tr>\n",
       "    <tr>\n",
       "      <th>S1501_C05_063E</th>\n",
       "      <td>Estimate!!Female!!MEDIAN EARNINGS IN THE PAST ...</td>\n",
       "    </tr>\n",
       "    <tr>\n",
       "      <th>S1501_C05_013E</th>\n",
       "      <td>Estimate!!Female!!AGE BY EDUCATIONAL ATTAINMEN...</td>\n",
       "    </tr>\n",
       "    <tr>\n",
       "      <th>S1501_C05_064E</th>\n",
       "      <td>Estimate!!Female!!MEDIAN EARNINGS IN THE PAST ...</td>\n",
       "    </tr>\n",
       "  </tbody>\n",
       "</table>\n",
       "</div>"
      ],
      "text/plain": [
       "                                                               id\n",
       "GEO_ID                                                           \n",
       "S1501_C01_006E  Estimate!!Total!!AGE BY EDUCATIONAL ATTAINMENT...\n",
       "S1501_C01_015E  Estimate!!Total!!AGE BY EDUCATIONAL ATTAINMENT...\n",
       "S1501_C05_012E  Estimate!!Female!!AGE BY EDUCATIONAL ATTAINMEN...\n",
       "S1501_C01_059E  Estimate!!Total!!MEDIAN EARNINGS IN THE PAST 1...\n",
       "S1501_C05_063E  Estimate!!Female!!MEDIAN EARNINGS IN THE PAST ...\n",
       "S1501_C05_013E  Estimate!!Female!!AGE BY EDUCATIONAL ATTAINMEN...\n",
       "S1501_C05_064E  Estimate!!Female!!MEDIAN EARNINGS IN THE PAST ..."
      ]
     },
     "execution_count": 27,
     "metadata": {},
     "output_type": "execute_result"
    }
   ],
   "source": [
    "#filter for the columns\n",
    "#df_edulvl_dataT = df_edulvl_data.transpose\n",
    "df_edulvl_data_filtered = df_edulvl_data.loc[edulvl_rows]\n",
    "df_edulvl_data_filtered "
   ]
  },
  {
   "cell_type": "code",
   "execution_count": 28,
   "metadata": {},
   "outputs": [
    {
     "data": {
      "text/html": [
       "<div>\n",
       "<style scoped>\n",
       "    .dataframe tbody tr th:only-of-type {\n",
       "        vertical-align: middle;\n",
       "    }\n",
       "\n",
       "    .dataframe tbody tr th {\n",
       "        vertical-align: top;\n",
       "    }\n",
       "\n",
       "    .dataframe thead th {\n",
       "        text-align: right;\n",
       "    }\n",
       "</style>\n",
       "<table border=\"1\" class=\"dataframe\">\n",
       "  <thead>\n",
       "    <tr style=\"text-align: right;\">\n",
       "      <th></th>\n",
       "      <th>id</th>\n",
       "    </tr>\n",
       "    <tr>\n",
       "      <th>GEO_ID</th>\n",
       "      <th></th>\n",
       "    </tr>\n",
       "  </thead>\n",
       "  <tbody>\n",
       "    <tr>\n",
       "      <th>S1501_C01_006E</th>\n",
       "      <td>Total: AGE BY EDUCATIONAL ATTAINMENT: Populati...</td>\n",
       "    </tr>\n",
       "    <tr>\n",
       "      <th>S1501_C01_015E</th>\n",
       "      <td>Total: AGE BY EDUCATIONAL ATTAINMENT: Populati...</td>\n",
       "    </tr>\n",
       "    <tr>\n",
       "      <th>S1501_C05_012E</th>\n",
       "      <td>Female: AGE BY EDUCATIONAL ATTAINMENT: Populat...</td>\n",
       "    </tr>\n",
       "    <tr>\n",
       "      <th>S1501_C01_059E</th>\n",
       "      <td>Total: MEDIAN EARNINGS IN THE PAST 12 MONTHS (...</td>\n",
       "    </tr>\n",
       "    <tr>\n",
       "      <th>S1501_C05_063E</th>\n",
       "      <td>Female: MEDIAN EARNINGS IN THE PAST 12 MONTHS ...</td>\n",
       "    </tr>\n",
       "    <tr>\n",
       "      <th>S1501_C05_013E</th>\n",
       "      <td>Female: AGE BY EDUCATIONAL ATTAINMENT: Populat...</td>\n",
       "    </tr>\n",
       "    <tr>\n",
       "      <th>S1501_C05_064E</th>\n",
       "      <td>Female: MEDIAN EARNINGS IN THE PAST 12 MONTHS ...</td>\n",
       "    </tr>\n",
       "  </tbody>\n",
       "</table>\n",
       "</div>"
      ],
      "text/plain": [
       "                                                               id\n",
       "GEO_ID                                                           \n",
       "S1501_C01_006E  Total: AGE BY EDUCATIONAL ATTAINMENT: Populati...\n",
       "S1501_C01_015E  Total: AGE BY EDUCATIONAL ATTAINMENT: Populati...\n",
       "S1501_C05_012E  Female: AGE BY EDUCATIONAL ATTAINMENT: Populat...\n",
       "S1501_C01_059E  Total: MEDIAN EARNINGS IN THE PAST 12 MONTHS (...\n",
       "S1501_C05_063E  Female: MEDIAN EARNINGS IN THE PAST 12 MONTHS ...\n",
       "S1501_C05_013E  Female: AGE BY EDUCATIONAL ATTAINMENT: Populat...\n",
       "S1501_C05_064E  Female: MEDIAN EARNINGS IN THE PAST 12 MONTHS ..."
      ]
     },
     "execution_count": 28,
     "metadata": {},
     "output_type": "execute_result"
    }
   ],
   "source": [
    "df_edulvl_data_filtered['id'] = df_edulvl_data_filtered.id.map(lambda x: x.lstrip(\"Estimate!!\"))\n",
    "df_edulvl_data_filtered['id'] = df_edulvl_data_filtered.id.replace(\"!!\", \": \", regex=True)\n",
    "df_edulvl_data_filtered"
   ]
  },
  {
   "cell_type": "code",
   "execution_count": 29,
   "metadata": {},
   "outputs": [
    {
     "name": "stderr",
     "output_type": "stream",
     "text": [
      "/Users/alexandersigrist/opt/anaconda3/lib/python3.8/site-packages/IPython/core/interactiveshell.py:3146: DtypeWarning: Columns (2,3,4,5,6,7,8,9,10,11,12,13,14,15,16,17,18,19,20,21,22,23,24,25,26,27,28,29,30,31,32,33,34,35,36,37,38,39,40,41,42,43,44,45,46,47,48,49,50,51,52,53,54,55,56,57,58,59,60,61,62,63,64,65,66,67,68,69,70,71,72,73,74,75,76,77,78,79,80,81,82,83,84,85,86,87,88,89,90,91,92,93,94,95,96,97,98,99,100,101,102,103,104,105,106,107,108,109,258,259,260,261,262,263,264,265,266,267,268,269,270,271,272,273,274,275,276,277,278,279,280,281,282,283,284,285,286,287,288,289,290,291,292,293,294,295,296,297,298,299,300,301,302,303,304,305,306,307,308,309,310,311,312,313,314,315,316,317,318,319,320,321,322,323,324,325,326,327,328,329,330,331,332,333,334,335,336,337,338,339,340,341,342,343,344,345,346,347,348,349,350,351,352,353,354,355,356,357,358,359,360,361,362,363,364,365,514,515,516,517,518,519,520,521,522,523,524,525,526,527,528,529,530,531,532,533,534,535,536,537,538,539,540,541,542,543,544,545,546,547,548,549,550,551,552,553,554,555,556,557,558,559,560,561,562,563,564,565,566,567,568,569,570,571,572,573,574,575,576,577,578,579,580,581,582,583,584,585,586,587,588,589,590,591,592,593,594,595,596,597,598,599,600,601,602,603,604,605,606,607,608,609,610,611,612,613,614,615,616,617,618,619,620,621) have mixed types.Specify dtype option on import or set low_memory=False.\n",
      "  has_raised = await self.run_ast_nodes(code_ast.body, cell_name,\n"
     ]
    }
   ],
   "source": [
    "full_edu_lvls = pd.read_csv(\"ACSST5Y2019.S1501_data_with_overlays_2021-01-04T171916.csv\", index_col=0)"
   ]
  },
  {
   "cell_type": "code",
   "execution_count": null,
   "metadata": {},
   "outputs": [],
   "source": []
  }
 ],
 "metadata": {
  "kernelspec": {
   "display_name": "Python 3",
   "language": "python",
   "name": "python3"
  },
  "language_info": {
   "codemirror_mode": {
    "name": "ipython",
    "version": 3
   },
   "file_extension": ".py",
   "mimetype": "text/x-python",
   "name": "python",
   "nbconvert_exporter": "python",
   "pygments_lexer": "ipython3",
   "version": "3.8.5"
  }
 },
 "nbformat": 4,
 "nbformat_minor": 4
}
